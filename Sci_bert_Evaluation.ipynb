{
  "nbformat": 4,
  "nbformat_minor": 0,
  "metadata": {
    "colab": {
      "provenance": []
    },
    "kernelspec": {
      "name": "python3",
      "display_name": "Python 3"
    },
    "language_info": {
      "name": "python"
    },
    "accelerator": "GPU",
    "gpuClass": "standard",
    "widgets": {
      "application/vnd.jupyter.widget-state+json": {
        "c728a02cc5fc409db60fae23d3a6e348": {
          "model_module": "@jupyter-widgets/controls",
          "model_name": "HBoxModel",
          "model_module_version": "1.5.0",
          "state": {
            "_dom_classes": [],
            "_model_module": "@jupyter-widgets/controls",
            "_model_module_version": "1.5.0",
            "_model_name": "HBoxModel",
            "_view_count": null,
            "_view_module": "@jupyter-widgets/controls",
            "_view_module_version": "1.5.0",
            "_view_name": "HBoxView",
            "box_style": "",
            "children": [
              "IPY_MODEL_14dc68ac70fe48aa98b7a99ac105b3c6",
              "IPY_MODEL_979beaf315a54523b60022f3ccba3ca4",
              "IPY_MODEL_4f7b0b21a8c143fe80db6aedf03eff9f"
            ],
            "layout": "IPY_MODEL_b8b1c21cd00a4e30876ac069344d9686"
          }
        },
        "14dc68ac70fe48aa98b7a99ac105b3c6": {
          "model_module": "@jupyter-widgets/controls",
          "model_name": "HTMLModel",
          "model_module_version": "1.5.0",
          "state": {
            "_dom_classes": [],
            "_model_module": "@jupyter-widgets/controls",
            "_model_module_version": "1.5.0",
            "_model_name": "HTMLModel",
            "_view_count": null,
            "_view_module": "@jupyter-widgets/controls",
            "_view_module_version": "1.5.0",
            "_view_name": "HTMLView",
            "description": "",
            "description_tooltip": null,
            "layout": "IPY_MODEL_294c226d093f407d90a84f2895ccecde",
            "placeholder": "​",
            "style": "IPY_MODEL_8d53d10ff3ae49fbae9529bfc9c80a60",
            "value": "Downloading (…)lve/main/config.json: 100%"
          }
        },
        "979beaf315a54523b60022f3ccba3ca4": {
          "model_module": "@jupyter-widgets/controls",
          "model_name": "FloatProgressModel",
          "model_module_version": "1.5.0",
          "state": {
            "_dom_classes": [],
            "_model_module": "@jupyter-widgets/controls",
            "_model_module_version": "1.5.0",
            "_model_name": "FloatProgressModel",
            "_view_count": null,
            "_view_module": "@jupyter-widgets/controls",
            "_view_module_version": "1.5.0",
            "_view_name": "ProgressView",
            "bar_style": "success",
            "description": "",
            "description_tooltip": null,
            "layout": "IPY_MODEL_45c202ef6e8c4582bdb3aa2c8bade9c7",
            "max": 385,
            "min": 0,
            "orientation": "horizontal",
            "style": "IPY_MODEL_2225f09c7ef744138e4725cb2d9a62ba",
            "value": 385
          }
        },
        "4f7b0b21a8c143fe80db6aedf03eff9f": {
          "model_module": "@jupyter-widgets/controls",
          "model_name": "HTMLModel",
          "model_module_version": "1.5.0",
          "state": {
            "_dom_classes": [],
            "_model_module": "@jupyter-widgets/controls",
            "_model_module_version": "1.5.0",
            "_model_name": "HTMLModel",
            "_view_count": null,
            "_view_module": "@jupyter-widgets/controls",
            "_view_module_version": "1.5.0",
            "_view_name": "HTMLView",
            "description": "",
            "description_tooltip": null,
            "layout": "IPY_MODEL_ab825e1d2ef64159b883bd27d25650a4",
            "placeholder": "​",
            "style": "IPY_MODEL_49d8532ddc5c4c4abb884d73f762d5c9",
            "value": " 385/385 [00:00&lt;00:00, 18.8kB/s]"
          }
        },
        "b8b1c21cd00a4e30876ac069344d9686": {
          "model_module": "@jupyter-widgets/base",
          "model_name": "LayoutModel",
          "model_module_version": "1.2.0",
          "state": {
            "_model_module": "@jupyter-widgets/base",
            "_model_module_version": "1.2.0",
            "_model_name": "LayoutModel",
            "_view_count": null,
            "_view_module": "@jupyter-widgets/base",
            "_view_module_version": "1.2.0",
            "_view_name": "LayoutView",
            "align_content": null,
            "align_items": null,
            "align_self": null,
            "border": null,
            "bottom": null,
            "display": null,
            "flex": null,
            "flex_flow": null,
            "grid_area": null,
            "grid_auto_columns": null,
            "grid_auto_flow": null,
            "grid_auto_rows": null,
            "grid_column": null,
            "grid_gap": null,
            "grid_row": null,
            "grid_template_areas": null,
            "grid_template_columns": null,
            "grid_template_rows": null,
            "height": null,
            "justify_content": null,
            "justify_items": null,
            "left": null,
            "margin": null,
            "max_height": null,
            "max_width": null,
            "min_height": null,
            "min_width": null,
            "object_fit": null,
            "object_position": null,
            "order": null,
            "overflow": null,
            "overflow_x": null,
            "overflow_y": null,
            "padding": null,
            "right": null,
            "top": null,
            "visibility": null,
            "width": null
          }
        },
        "294c226d093f407d90a84f2895ccecde": {
          "model_module": "@jupyter-widgets/base",
          "model_name": "LayoutModel",
          "model_module_version": "1.2.0",
          "state": {
            "_model_module": "@jupyter-widgets/base",
            "_model_module_version": "1.2.0",
            "_model_name": "LayoutModel",
            "_view_count": null,
            "_view_module": "@jupyter-widgets/base",
            "_view_module_version": "1.2.0",
            "_view_name": "LayoutView",
            "align_content": null,
            "align_items": null,
            "align_self": null,
            "border": null,
            "bottom": null,
            "display": null,
            "flex": null,
            "flex_flow": null,
            "grid_area": null,
            "grid_auto_columns": null,
            "grid_auto_flow": null,
            "grid_auto_rows": null,
            "grid_column": null,
            "grid_gap": null,
            "grid_row": null,
            "grid_template_areas": null,
            "grid_template_columns": null,
            "grid_template_rows": null,
            "height": null,
            "justify_content": null,
            "justify_items": null,
            "left": null,
            "margin": null,
            "max_height": null,
            "max_width": null,
            "min_height": null,
            "min_width": null,
            "object_fit": null,
            "object_position": null,
            "order": null,
            "overflow": null,
            "overflow_x": null,
            "overflow_y": null,
            "padding": null,
            "right": null,
            "top": null,
            "visibility": null,
            "width": null
          }
        },
        "8d53d10ff3ae49fbae9529bfc9c80a60": {
          "model_module": "@jupyter-widgets/controls",
          "model_name": "DescriptionStyleModel",
          "model_module_version": "1.5.0",
          "state": {
            "_model_module": "@jupyter-widgets/controls",
            "_model_module_version": "1.5.0",
            "_model_name": "DescriptionStyleModel",
            "_view_count": null,
            "_view_module": "@jupyter-widgets/base",
            "_view_module_version": "1.2.0",
            "_view_name": "StyleView",
            "description_width": ""
          }
        },
        "45c202ef6e8c4582bdb3aa2c8bade9c7": {
          "model_module": "@jupyter-widgets/base",
          "model_name": "LayoutModel",
          "model_module_version": "1.2.0",
          "state": {
            "_model_module": "@jupyter-widgets/base",
            "_model_module_version": "1.2.0",
            "_model_name": "LayoutModel",
            "_view_count": null,
            "_view_module": "@jupyter-widgets/base",
            "_view_module_version": "1.2.0",
            "_view_name": "LayoutView",
            "align_content": null,
            "align_items": null,
            "align_self": null,
            "border": null,
            "bottom": null,
            "display": null,
            "flex": null,
            "flex_flow": null,
            "grid_area": null,
            "grid_auto_columns": null,
            "grid_auto_flow": null,
            "grid_auto_rows": null,
            "grid_column": null,
            "grid_gap": null,
            "grid_row": null,
            "grid_template_areas": null,
            "grid_template_columns": null,
            "grid_template_rows": null,
            "height": null,
            "justify_content": null,
            "justify_items": null,
            "left": null,
            "margin": null,
            "max_height": null,
            "max_width": null,
            "min_height": null,
            "min_width": null,
            "object_fit": null,
            "object_position": null,
            "order": null,
            "overflow": null,
            "overflow_x": null,
            "overflow_y": null,
            "padding": null,
            "right": null,
            "top": null,
            "visibility": null,
            "width": null
          }
        },
        "2225f09c7ef744138e4725cb2d9a62ba": {
          "model_module": "@jupyter-widgets/controls",
          "model_name": "ProgressStyleModel",
          "model_module_version": "1.5.0",
          "state": {
            "_model_module": "@jupyter-widgets/controls",
            "_model_module_version": "1.5.0",
            "_model_name": "ProgressStyleModel",
            "_view_count": null,
            "_view_module": "@jupyter-widgets/base",
            "_view_module_version": "1.2.0",
            "_view_name": "StyleView",
            "bar_color": null,
            "description_width": ""
          }
        },
        "ab825e1d2ef64159b883bd27d25650a4": {
          "model_module": "@jupyter-widgets/base",
          "model_name": "LayoutModel",
          "model_module_version": "1.2.0",
          "state": {
            "_model_module": "@jupyter-widgets/base",
            "_model_module_version": "1.2.0",
            "_model_name": "LayoutModel",
            "_view_count": null,
            "_view_module": "@jupyter-widgets/base",
            "_view_module_version": "1.2.0",
            "_view_name": "LayoutView",
            "align_content": null,
            "align_items": null,
            "align_self": null,
            "border": null,
            "bottom": null,
            "display": null,
            "flex": null,
            "flex_flow": null,
            "grid_area": null,
            "grid_auto_columns": null,
            "grid_auto_flow": null,
            "grid_auto_rows": null,
            "grid_column": null,
            "grid_gap": null,
            "grid_row": null,
            "grid_template_areas": null,
            "grid_template_columns": null,
            "grid_template_rows": null,
            "height": null,
            "justify_content": null,
            "justify_items": null,
            "left": null,
            "margin": null,
            "max_height": null,
            "max_width": null,
            "min_height": null,
            "min_width": null,
            "object_fit": null,
            "object_position": null,
            "order": null,
            "overflow": null,
            "overflow_x": null,
            "overflow_y": null,
            "padding": null,
            "right": null,
            "top": null,
            "visibility": null,
            "width": null
          }
        },
        "49d8532ddc5c4c4abb884d73f762d5c9": {
          "model_module": "@jupyter-widgets/controls",
          "model_name": "DescriptionStyleModel",
          "model_module_version": "1.5.0",
          "state": {
            "_model_module": "@jupyter-widgets/controls",
            "_model_module_version": "1.5.0",
            "_model_name": "DescriptionStyleModel",
            "_view_count": null,
            "_view_module": "@jupyter-widgets/base",
            "_view_module_version": "1.2.0",
            "_view_name": "StyleView",
            "description_width": ""
          }
        },
        "b84160e4814143e983191e758d92837d": {
          "model_module": "@jupyter-widgets/controls",
          "model_name": "HBoxModel",
          "model_module_version": "1.5.0",
          "state": {
            "_dom_classes": [],
            "_model_module": "@jupyter-widgets/controls",
            "_model_module_version": "1.5.0",
            "_model_name": "HBoxModel",
            "_view_count": null,
            "_view_module": "@jupyter-widgets/controls",
            "_view_module_version": "1.5.0",
            "_view_name": "HBoxView",
            "box_style": "",
            "children": [
              "IPY_MODEL_fab33ab02244404b8ad6c5f4f3101619",
              "IPY_MODEL_b2e5a55365024846b8c1bd45f955b523",
              "IPY_MODEL_18c6514618bd430a8d046fee04648d9c"
            ],
            "layout": "IPY_MODEL_72592715a4cd4fd78250f56568164a90"
          }
        },
        "fab33ab02244404b8ad6c5f4f3101619": {
          "model_module": "@jupyter-widgets/controls",
          "model_name": "HTMLModel",
          "model_module_version": "1.5.0",
          "state": {
            "_dom_classes": [],
            "_model_module": "@jupyter-widgets/controls",
            "_model_module_version": "1.5.0",
            "_model_name": "HTMLModel",
            "_view_count": null,
            "_view_module": "@jupyter-widgets/controls",
            "_view_module_version": "1.5.0",
            "_view_name": "HTMLView",
            "description": "",
            "description_tooltip": null,
            "layout": "IPY_MODEL_3b74c95fff1b481ab51ac1239fb27694",
            "placeholder": "​",
            "style": "IPY_MODEL_ea70ff03a96b444c87750966bf99e096",
            "value": "Downloading (…)solve/main/vocab.txt: 100%"
          }
        },
        "b2e5a55365024846b8c1bd45f955b523": {
          "model_module": "@jupyter-widgets/controls",
          "model_name": "FloatProgressModel",
          "model_module_version": "1.5.0",
          "state": {
            "_dom_classes": [],
            "_model_module": "@jupyter-widgets/controls",
            "_model_module_version": "1.5.0",
            "_model_name": "FloatProgressModel",
            "_view_count": null,
            "_view_module": "@jupyter-widgets/controls",
            "_view_module_version": "1.5.0",
            "_view_name": "ProgressView",
            "bar_style": "success",
            "description": "",
            "description_tooltip": null,
            "layout": "IPY_MODEL_ccd5d3710a584e418065ea6212664d61",
            "max": 222296,
            "min": 0,
            "orientation": "horizontal",
            "style": "IPY_MODEL_fc06110115b349d5b25d43fd854f0fa5",
            "value": 222296
          }
        },
        "18c6514618bd430a8d046fee04648d9c": {
          "model_module": "@jupyter-widgets/controls",
          "model_name": "HTMLModel",
          "model_module_version": "1.5.0",
          "state": {
            "_dom_classes": [],
            "_model_module": "@jupyter-widgets/controls",
            "_model_module_version": "1.5.0",
            "_model_name": "HTMLModel",
            "_view_count": null,
            "_view_module": "@jupyter-widgets/controls",
            "_view_module_version": "1.5.0",
            "_view_name": "HTMLView",
            "description": "",
            "description_tooltip": null,
            "layout": "IPY_MODEL_9ca903763a5a4e46945e0bd718a429d1",
            "placeholder": "​",
            "style": "IPY_MODEL_97f37acc527b4d4280ac108e694cf4da",
            "value": " 222k/222k [00:00&lt;00:00, 2.78MB/s]"
          }
        },
        "72592715a4cd4fd78250f56568164a90": {
          "model_module": "@jupyter-widgets/base",
          "model_name": "LayoutModel",
          "model_module_version": "1.2.0",
          "state": {
            "_model_module": "@jupyter-widgets/base",
            "_model_module_version": "1.2.0",
            "_model_name": "LayoutModel",
            "_view_count": null,
            "_view_module": "@jupyter-widgets/base",
            "_view_module_version": "1.2.0",
            "_view_name": "LayoutView",
            "align_content": null,
            "align_items": null,
            "align_self": null,
            "border": null,
            "bottom": null,
            "display": null,
            "flex": null,
            "flex_flow": null,
            "grid_area": null,
            "grid_auto_columns": null,
            "grid_auto_flow": null,
            "grid_auto_rows": null,
            "grid_column": null,
            "grid_gap": null,
            "grid_row": null,
            "grid_template_areas": null,
            "grid_template_columns": null,
            "grid_template_rows": null,
            "height": null,
            "justify_content": null,
            "justify_items": null,
            "left": null,
            "margin": null,
            "max_height": null,
            "max_width": null,
            "min_height": null,
            "min_width": null,
            "object_fit": null,
            "object_position": null,
            "order": null,
            "overflow": null,
            "overflow_x": null,
            "overflow_y": null,
            "padding": null,
            "right": null,
            "top": null,
            "visibility": null,
            "width": null
          }
        },
        "3b74c95fff1b481ab51ac1239fb27694": {
          "model_module": "@jupyter-widgets/base",
          "model_name": "LayoutModel",
          "model_module_version": "1.2.0",
          "state": {
            "_model_module": "@jupyter-widgets/base",
            "_model_module_version": "1.2.0",
            "_model_name": "LayoutModel",
            "_view_count": null,
            "_view_module": "@jupyter-widgets/base",
            "_view_module_version": "1.2.0",
            "_view_name": "LayoutView",
            "align_content": null,
            "align_items": null,
            "align_self": null,
            "border": null,
            "bottom": null,
            "display": null,
            "flex": null,
            "flex_flow": null,
            "grid_area": null,
            "grid_auto_columns": null,
            "grid_auto_flow": null,
            "grid_auto_rows": null,
            "grid_column": null,
            "grid_gap": null,
            "grid_row": null,
            "grid_template_areas": null,
            "grid_template_columns": null,
            "grid_template_rows": null,
            "height": null,
            "justify_content": null,
            "justify_items": null,
            "left": null,
            "margin": null,
            "max_height": null,
            "max_width": null,
            "min_height": null,
            "min_width": null,
            "object_fit": null,
            "object_position": null,
            "order": null,
            "overflow": null,
            "overflow_x": null,
            "overflow_y": null,
            "padding": null,
            "right": null,
            "top": null,
            "visibility": null,
            "width": null
          }
        },
        "ea70ff03a96b444c87750966bf99e096": {
          "model_module": "@jupyter-widgets/controls",
          "model_name": "DescriptionStyleModel",
          "model_module_version": "1.5.0",
          "state": {
            "_model_module": "@jupyter-widgets/controls",
            "_model_module_version": "1.5.0",
            "_model_name": "DescriptionStyleModel",
            "_view_count": null,
            "_view_module": "@jupyter-widgets/base",
            "_view_module_version": "1.2.0",
            "_view_name": "StyleView",
            "description_width": ""
          }
        },
        "ccd5d3710a584e418065ea6212664d61": {
          "model_module": "@jupyter-widgets/base",
          "model_name": "LayoutModel",
          "model_module_version": "1.2.0",
          "state": {
            "_model_module": "@jupyter-widgets/base",
            "_model_module_version": "1.2.0",
            "_model_name": "LayoutModel",
            "_view_count": null,
            "_view_module": "@jupyter-widgets/base",
            "_view_module_version": "1.2.0",
            "_view_name": "LayoutView",
            "align_content": null,
            "align_items": null,
            "align_self": null,
            "border": null,
            "bottom": null,
            "display": null,
            "flex": null,
            "flex_flow": null,
            "grid_area": null,
            "grid_auto_columns": null,
            "grid_auto_flow": null,
            "grid_auto_rows": null,
            "grid_column": null,
            "grid_gap": null,
            "grid_row": null,
            "grid_template_areas": null,
            "grid_template_columns": null,
            "grid_template_rows": null,
            "height": null,
            "justify_content": null,
            "justify_items": null,
            "left": null,
            "margin": null,
            "max_height": null,
            "max_width": null,
            "min_height": null,
            "min_width": null,
            "object_fit": null,
            "object_position": null,
            "order": null,
            "overflow": null,
            "overflow_x": null,
            "overflow_y": null,
            "padding": null,
            "right": null,
            "top": null,
            "visibility": null,
            "width": null
          }
        },
        "fc06110115b349d5b25d43fd854f0fa5": {
          "model_module": "@jupyter-widgets/controls",
          "model_name": "ProgressStyleModel",
          "model_module_version": "1.5.0",
          "state": {
            "_model_module": "@jupyter-widgets/controls",
            "_model_module_version": "1.5.0",
            "_model_name": "ProgressStyleModel",
            "_view_count": null,
            "_view_module": "@jupyter-widgets/base",
            "_view_module_version": "1.2.0",
            "_view_name": "StyleView",
            "bar_color": null,
            "description_width": ""
          }
        },
        "9ca903763a5a4e46945e0bd718a429d1": {
          "model_module": "@jupyter-widgets/base",
          "model_name": "LayoutModel",
          "model_module_version": "1.2.0",
          "state": {
            "_model_module": "@jupyter-widgets/base",
            "_model_module_version": "1.2.0",
            "_model_name": "LayoutModel",
            "_view_count": null,
            "_view_module": "@jupyter-widgets/base",
            "_view_module_version": "1.2.0",
            "_view_name": "LayoutView",
            "align_content": null,
            "align_items": null,
            "align_self": null,
            "border": null,
            "bottom": null,
            "display": null,
            "flex": null,
            "flex_flow": null,
            "grid_area": null,
            "grid_auto_columns": null,
            "grid_auto_flow": null,
            "grid_auto_rows": null,
            "grid_column": null,
            "grid_gap": null,
            "grid_row": null,
            "grid_template_areas": null,
            "grid_template_columns": null,
            "grid_template_rows": null,
            "height": null,
            "justify_content": null,
            "justify_items": null,
            "left": null,
            "margin": null,
            "max_height": null,
            "max_width": null,
            "min_height": null,
            "min_width": null,
            "object_fit": null,
            "object_position": null,
            "order": null,
            "overflow": null,
            "overflow_x": null,
            "overflow_y": null,
            "padding": null,
            "right": null,
            "top": null,
            "visibility": null,
            "width": null
          }
        },
        "97f37acc527b4d4280ac108e694cf4da": {
          "model_module": "@jupyter-widgets/controls",
          "model_name": "DescriptionStyleModel",
          "model_module_version": "1.5.0",
          "state": {
            "_model_module": "@jupyter-widgets/controls",
            "_model_module_version": "1.5.0",
            "_model_name": "DescriptionStyleModel",
            "_view_count": null,
            "_view_module": "@jupyter-widgets/base",
            "_view_module_version": "1.2.0",
            "_view_name": "StyleView",
            "description_width": ""
          }
        },
        "844f303fc3884b14b0437dda4f0a46c7": {
          "model_module": "@jupyter-widgets/controls",
          "model_name": "HBoxModel",
          "model_module_version": "1.5.0",
          "state": {
            "_dom_classes": [],
            "_model_module": "@jupyter-widgets/controls",
            "_model_module_version": "1.5.0",
            "_model_name": "HBoxModel",
            "_view_count": null,
            "_view_module": "@jupyter-widgets/controls",
            "_view_module_version": "1.5.0",
            "_view_name": "HBoxView",
            "box_style": "",
            "children": [
              "IPY_MODEL_4bc10b3104bc46448eb3adec7dd1f6bb",
              "IPY_MODEL_5d921c0bb1f847b09aa427efe359019e",
              "IPY_MODEL_fe69f62d22c342259c52f701abaed8c1"
            ],
            "layout": "IPY_MODEL_3c02944c7caf4275a132bb22d684e576"
          }
        },
        "4bc10b3104bc46448eb3adec7dd1f6bb": {
          "model_module": "@jupyter-widgets/controls",
          "model_name": "HTMLModel",
          "model_module_version": "1.5.0",
          "state": {
            "_dom_classes": [],
            "_model_module": "@jupyter-widgets/controls",
            "_model_module_version": "1.5.0",
            "_model_name": "HTMLModel",
            "_view_count": null,
            "_view_module": "@jupyter-widgets/controls",
            "_view_module_version": "1.5.0",
            "_view_name": "HTMLView",
            "description": "",
            "description_tooltip": null,
            "layout": "IPY_MODEL_f3f072cd33c542e2b5a916c89b089e0c",
            "placeholder": "​",
            "style": "IPY_MODEL_3dfab36955c94bbcb90ac073c8d5ca52",
            "value": "Downloading pytorch_model.bin: 100%"
          }
        },
        "5d921c0bb1f847b09aa427efe359019e": {
          "model_module": "@jupyter-widgets/controls",
          "model_name": "FloatProgressModel",
          "model_module_version": "1.5.0",
          "state": {
            "_dom_classes": [],
            "_model_module": "@jupyter-widgets/controls",
            "_model_module_version": "1.5.0",
            "_model_name": "FloatProgressModel",
            "_view_count": null,
            "_view_module": "@jupyter-widgets/controls",
            "_view_module_version": "1.5.0",
            "_view_name": "ProgressView",
            "bar_style": "success",
            "description": "",
            "description_tooltip": null,
            "layout": "IPY_MODEL_93dcb3ab3c394c95a059cb51aa398ae1",
            "max": 442301670,
            "min": 0,
            "orientation": "horizontal",
            "style": "IPY_MODEL_26bfab9eaccd40d39c122ed7622a3d75",
            "value": 442301670
          }
        },
        "fe69f62d22c342259c52f701abaed8c1": {
          "model_module": "@jupyter-widgets/controls",
          "model_name": "HTMLModel",
          "model_module_version": "1.5.0",
          "state": {
            "_dom_classes": [],
            "_model_module": "@jupyter-widgets/controls",
            "_model_module_version": "1.5.0",
            "_model_name": "HTMLModel",
            "_view_count": null,
            "_view_module": "@jupyter-widgets/controls",
            "_view_module_version": "1.5.0",
            "_view_name": "HTMLView",
            "description": "",
            "description_tooltip": null,
            "layout": "IPY_MODEL_c660ac5839fe42e0813ce912cd39d6a8",
            "placeholder": "​",
            "style": "IPY_MODEL_b29c4723771848f483d352fec6a233f2",
            "value": " 442M/442M [00:03&lt;00:00, 141MB/s]"
          }
        },
        "3c02944c7caf4275a132bb22d684e576": {
          "model_module": "@jupyter-widgets/base",
          "model_name": "LayoutModel",
          "model_module_version": "1.2.0",
          "state": {
            "_model_module": "@jupyter-widgets/base",
            "_model_module_version": "1.2.0",
            "_model_name": "LayoutModel",
            "_view_count": null,
            "_view_module": "@jupyter-widgets/base",
            "_view_module_version": "1.2.0",
            "_view_name": "LayoutView",
            "align_content": null,
            "align_items": null,
            "align_self": null,
            "border": null,
            "bottom": null,
            "display": null,
            "flex": null,
            "flex_flow": null,
            "grid_area": null,
            "grid_auto_columns": null,
            "grid_auto_flow": null,
            "grid_auto_rows": null,
            "grid_column": null,
            "grid_gap": null,
            "grid_row": null,
            "grid_template_areas": null,
            "grid_template_columns": null,
            "grid_template_rows": null,
            "height": null,
            "justify_content": null,
            "justify_items": null,
            "left": null,
            "margin": null,
            "max_height": null,
            "max_width": null,
            "min_height": null,
            "min_width": null,
            "object_fit": null,
            "object_position": null,
            "order": null,
            "overflow": null,
            "overflow_x": null,
            "overflow_y": null,
            "padding": null,
            "right": null,
            "top": null,
            "visibility": null,
            "width": null
          }
        },
        "f3f072cd33c542e2b5a916c89b089e0c": {
          "model_module": "@jupyter-widgets/base",
          "model_name": "LayoutModel",
          "model_module_version": "1.2.0",
          "state": {
            "_model_module": "@jupyter-widgets/base",
            "_model_module_version": "1.2.0",
            "_model_name": "LayoutModel",
            "_view_count": null,
            "_view_module": "@jupyter-widgets/base",
            "_view_module_version": "1.2.0",
            "_view_name": "LayoutView",
            "align_content": null,
            "align_items": null,
            "align_self": null,
            "border": null,
            "bottom": null,
            "display": null,
            "flex": null,
            "flex_flow": null,
            "grid_area": null,
            "grid_auto_columns": null,
            "grid_auto_flow": null,
            "grid_auto_rows": null,
            "grid_column": null,
            "grid_gap": null,
            "grid_row": null,
            "grid_template_areas": null,
            "grid_template_columns": null,
            "grid_template_rows": null,
            "height": null,
            "justify_content": null,
            "justify_items": null,
            "left": null,
            "margin": null,
            "max_height": null,
            "max_width": null,
            "min_height": null,
            "min_width": null,
            "object_fit": null,
            "object_position": null,
            "order": null,
            "overflow": null,
            "overflow_x": null,
            "overflow_y": null,
            "padding": null,
            "right": null,
            "top": null,
            "visibility": null,
            "width": null
          }
        },
        "3dfab36955c94bbcb90ac073c8d5ca52": {
          "model_module": "@jupyter-widgets/controls",
          "model_name": "DescriptionStyleModel",
          "model_module_version": "1.5.0",
          "state": {
            "_model_module": "@jupyter-widgets/controls",
            "_model_module_version": "1.5.0",
            "_model_name": "DescriptionStyleModel",
            "_view_count": null,
            "_view_module": "@jupyter-widgets/base",
            "_view_module_version": "1.2.0",
            "_view_name": "StyleView",
            "description_width": ""
          }
        },
        "93dcb3ab3c394c95a059cb51aa398ae1": {
          "model_module": "@jupyter-widgets/base",
          "model_name": "LayoutModel",
          "model_module_version": "1.2.0",
          "state": {
            "_model_module": "@jupyter-widgets/base",
            "_model_module_version": "1.2.0",
            "_model_name": "LayoutModel",
            "_view_count": null,
            "_view_module": "@jupyter-widgets/base",
            "_view_module_version": "1.2.0",
            "_view_name": "LayoutView",
            "align_content": null,
            "align_items": null,
            "align_self": null,
            "border": null,
            "bottom": null,
            "display": null,
            "flex": null,
            "flex_flow": null,
            "grid_area": null,
            "grid_auto_columns": null,
            "grid_auto_flow": null,
            "grid_auto_rows": null,
            "grid_column": null,
            "grid_gap": null,
            "grid_row": null,
            "grid_template_areas": null,
            "grid_template_columns": null,
            "grid_template_rows": null,
            "height": null,
            "justify_content": null,
            "justify_items": null,
            "left": null,
            "margin": null,
            "max_height": null,
            "max_width": null,
            "min_height": null,
            "min_width": null,
            "object_fit": null,
            "object_position": null,
            "order": null,
            "overflow": null,
            "overflow_x": null,
            "overflow_y": null,
            "padding": null,
            "right": null,
            "top": null,
            "visibility": null,
            "width": null
          }
        },
        "26bfab9eaccd40d39c122ed7622a3d75": {
          "model_module": "@jupyter-widgets/controls",
          "model_name": "ProgressStyleModel",
          "model_module_version": "1.5.0",
          "state": {
            "_model_module": "@jupyter-widgets/controls",
            "_model_module_version": "1.5.0",
            "_model_name": "ProgressStyleModel",
            "_view_count": null,
            "_view_module": "@jupyter-widgets/base",
            "_view_module_version": "1.2.0",
            "_view_name": "StyleView",
            "bar_color": null,
            "description_width": ""
          }
        },
        "c660ac5839fe42e0813ce912cd39d6a8": {
          "model_module": "@jupyter-widgets/base",
          "model_name": "LayoutModel",
          "model_module_version": "1.2.0",
          "state": {
            "_model_module": "@jupyter-widgets/base",
            "_model_module_version": "1.2.0",
            "_model_name": "LayoutModel",
            "_view_count": null,
            "_view_module": "@jupyter-widgets/base",
            "_view_module_version": "1.2.0",
            "_view_name": "LayoutView",
            "align_content": null,
            "align_items": null,
            "align_self": null,
            "border": null,
            "bottom": null,
            "display": null,
            "flex": null,
            "flex_flow": null,
            "grid_area": null,
            "grid_auto_columns": null,
            "grid_auto_flow": null,
            "grid_auto_rows": null,
            "grid_column": null,
            "grid_gap": null,
            "grid_row": null,
            "grid_template_areas": null,
            "grid_template_columns": null,
            "grid_template_rows": null,
            "height": null,
            "justify_content": null,
            "justify_items": null,
            "left": null,
            "margin": null,
            "max_height": null,
            "max_width": null,
            "min_height": null,
            "min_width": null,
            "object_fit": null,
            "object_position": null,
            "order": null,
            "overflow": null,
            "overflow_x": null,
            "overflow_y": null,
            "padding": null,
            "right": null,
            "top": null,
            "visibility": null,
            "width": null
          }
        },
        "b29c4723771848f483d352fec6a233f2": {
          "model_module": "@jupyter-widgets/controls",
          "model_name": "DescriptionStyleModel",
          "model_module_version": "1.5.0",
          "state": {
            "_model_module": "@jupyter-widgets/controls",
            "_model_module_version": "1.5.0",
            "_model_name": "DescriptionStyleModel",
            "_view_count": null,
            "_view_module": "@jupyter-widgets/base",
            "_view_module_version": "1.2.0",
            "_view_name": "StyleView",
            "description_width": ""
          }
        }
      }
    }
  },
  "cells": [
    {
      "cell_type": "markdown",
      "source": [
        "### Data Loading and Pre-Processing"
      ],
      "metadata": {
        "id": "hOvnudu-fSbq"
      }
    },
    {
      "cell_type": "code",
      "execution_count": null,
      "metadata": {
        "id": "jQ0VY15w5F7n"
      },
      "outputs": [],
      "source": [
        "!pip install datasets\n",
        "from datasets import load_dataset"
      ]
    },
    {
      "cell_type": "code",
      "source": [
        "dataset = load_dataset('allenai/scirepeval','search', split='evaluation')"
      ],
      "metadata": {
        "id": "NyydDSQY5ON6"
      },
      "execution_count": null,
      "outputs": []
    },
    {
      "cell_type": "code",
      "source": [
        "dataset"
      ],
      "metadata": {
        "id": "OXkW6nCu51Jk"
      },
      "execution_count": null,
      "outputs": []
    },
    {
      "cell_type": "code",
      "source": [
        "dataset['evaluation']"
      ],
      "metadata": {
        "id": "KNIIAlfQ91dP"
      },
      "execution_count": null,
      "outputs": []
    },
    {
      "cell_type": "code",
      "source": [
        "papers = dataset['candidates']"
      ],
      "metadata": {
        "id": "xAWB1adf-IlA"
      },
      "execution_count": 3,
      "outputs": []
    },
    {
      "cell_type": "code",
      "source": [
        "papers[0][0]"
      ],
      "metadata": {
        "colab": {
          "base_uri": "https://localhost:8080/"
        },
        "id": "DUkDAmut-1EM",
        "outputId": "75865df2-c262-45f8-e878-7eb41590474f"
      },
      "execution_count": 43,
      "outputs": [
        {
          "output_type": "execute_result",
          "data": {
            "text/plain": [
              "{'doc_id': '80054354',\n",
              " 'title': 'Abstract P1 10 04: Elacestrant, a novel oral selective estrogen receptor degrader (SERD) decreases tumoral 18F FES uptake in a phase 1 study of ER+ HER2 advanced breast cancer patients',\n",
              " 'abstract': 'Background: The estrogen receptor (ER) expressed in approximately 70% of breast cancers, can be mapped using 16a [18F]Fluoro 17b estradiol (FES) PET, a non invasive molecular whole body imaging tool capable of assessing ER target engagement by endocrine therapy. Elacestrant (RAD1901) is a novel, non steroidal oral SERD that has demonstrated single agent activity in heavily pre treated patients with ER+ advanced breast cancer (Bardia et al. J Clin Oncol 35, 2017: suppl; abstr 1014) The primary objective of this study was the visualization and quantification of residual ER binding with FES PET after treatment with elacestrant. Methods: In the RAD1901 106 phase 1 study (NCT02650817) patients with advanced ER+/HER2 breast cancer were treated with elacestrant at two dose levels (200 mg or 400 mg qd orally) for the first 14 days. Tumoral FES uptake was measured at baseline and day 14. After FES PET scan at day 14, all patients received elacestrant 400 mg qd until disease progression or discontinuation due to another cause. Key inclusion criteria included postmenopausal women with advanced ER+/HER2 breast cancer, who have progressed after =6 months of at least 1 line of endocrine treatment in the metastatic setting, with measurable disease according to RECIST criteria v1.1 or clinically evaluable disease. The PET scan was performed 60 min after intravenous injection of 200 MBq FES. Maximum standardized uptake values (SUVmax) were calculated and corrected for background activity. FES positive lesions had a SUVmax >1.5. FES response was defined as a 75% median decrease of SUVmax between the two scans. ESR1 mutation status was determined from circulating tumor DNA collected at multiple time points. Results: Twenty four patients were screened and 16 patients were enrolled (8 at each dose level) Median lines of prior therapy were 3, with 6 (38% patients having previously received fulvestrant and 8 (50% patients harboring at least 1 ESR1 mutation at baseline. Elacestrant demonstrated a median of 88% (range 59 97.1% reduction in tumorFES uptake following 14 days of treatment. Eleven out of 16 patients had >75% reduction in FES uptake at day 14. At the data cutoff date of 2 May 2017, median treatment duration was 8.1 weeks and 8 (50% patients remained on study. Elacestrant was generally well tolerated, with the most common treatment related adverse events (CTCAE v4.03) being low grade nausea gr1 50% gr2 =19% gr3/4 0% dyspepsia (gr1= 25% gr2 19% gr3/4 0% and dysphagia (gr1 19% gr2 =12% gr3/4 0% Updated analyses with mature data on correlation of FES uptake reduction and tumor response, treatment duration, safety and ESR1 mutation will be presented. Conclusions: Elacestrant significantly reduced FES uptake at both 200 mg and 400 mg doses after 14 days of treatment in heavily pre treated patients with advanced ER+/HER2 breast cancer, including those harboring ESR1 mutations. Citation Format: de Vries EGE, Venema CM, Glaudemans AWJM, Jager A, Menke van der Houven van Oordt CW, Neven P, Jiang H, Wang D, O9Neill A, Patki A, Aftimos P. Elacestrant, a novel oral selective estrogen receptor degrader (SERD) decreases tumoral 18F FES uptake in a phase 1 study of ER+ HER2 advanced breast cancer patients [abstract] In: Proceedings of the 2017 San Antonio Breast Cancer Symposium; 2017 Dec 5 9; San Antonio, TX. Philadelphia (PA) AACR; Cancer Res 2018;78(4 Suppl):Abstract nr P1 10 04.',\n",
              " 'corpus_id': 80054354,\n",
              " 'venue': '',\n",
              " 'year': 2018.0,\n",
              " 'author_names': ['Ege de Vries',\n",
              "  'C M Venema',\n",
              "  'Andor Wjm Glaudemans',\n",
              "  'Agnes Jager',\n",
              "  'C Willemien Menke-van der Houven van Oordt',\n",
              "  'Patrick Neven',\n",
              "  'H Jiang',\n",
              "  'D Wang',\n",
              "  \"Alison O'Neill\",\n",
              "  'Abhay Patki',\n",
              "  'Philippe Georges Aftimos'],\n",
              " 'n_citations': 0,\n",
              " 'n_key_citations': 0,\n",
              " 'score': 1}"
            ]
          },
          "metadata": {},
          "execution_count": 43
        }
      ]
    },
    {
      "cell_type": "code",
      "source": [
        "lis_1 = []"
      ],
      "metadata": {
        "id": "sqi-MBxGCOEX"
      },
      "execution_count": null,
      "outputs": []
    },
    {
      "cell_type": "code",
      "source": [
        "papers_dict ={}\n",
        "ground_truth = []\n",
        "for i in range(len(papers)):\n",
        "  temp = []\n",
        "  for j in range(10):\n",
        "    papers_dict[papers[i][j]['corpus_id']] = papers[i][j]['title']+ papers[i][j]['abstract']\n",
        "    temp.append(papers[i][j]['corpus_id'])\n",
        "  ground_truth.append(temp)"
      ],
      "metadata": {
        "id": "Q_fDskw9GOJ-"
      },
      "execution_count": 4,
      "outputs": []
    },
    {
      "cell_type": "code",
      "source": [
        "len(papers_dict)"
      ],
      "metadata": {
        "colab": {
          "base_uri": "https://localhost:8080/"
        },
        "id": "lEep07ooGmZh",
        "outputId": "2af2519b-90fd-45dd-e0af-05ce91f50770"
      },
      "execution_count": 5,
      "outputs": [
        {
          "output_type": "execute_result",
          "data": {
            "text/plain": [
              "26048"
            ]
          },
          "metadata": {},
          "execution_count": 5
        }
      ]
    },
    {
      "cell_type": "code",
      "source": [
        "len(ground_truth[324])"
      ],
      "metadata": {
        "colab": {
          "base_uri": "https://localhost:8080/"
        },
        "id": "OiPSs2FBXt0N",
        "outputId": "dbc13b8a-ec27-4719-8d7b-4caa5aa1700a"
      },
      "execution_count": null,
      "outputs": [
        {
          "output_type": "execute_result",
          "data": {
            "text/plain": [
              "10"
            ]
          },
          "metadata": {},
          "execution_count": 11
        }
      ]
    },
    {
      "cell_type": "code",
      "source": [
        "new_dataset = [{'id': key, 'abstract': value} for key, value in papers_dict.items()]"
      ],
      "metadata": {
        "id": "r3ghSSAeG8hr"
      },
      "execution_count": 6,
      "outputs": []
    },
    {
      "cell_type": "markdown",
      "source": [
        "### Importing Sci-Bert"
      ],
      "metadata": {
        "id": "SxG5Hv8cfoV4"
      }
    },
    {
      "cell_type": "code",
      "source": [
        "new_dataset[0]"
      ],
      "metadata": {
        "id": "Cv10QUi7Hbe6"
      },
      "execution_count": null,
      "outputs": []
    },
    {
      "cell_type": "code",
      "source": [
        "!pip install transformers"
      ],
      "metadata": {
        "id": "JXZIP1i8JgbT"
      },
      "execution_count": null,
      "outputs": []
    },
    {
      "cell_type": "code",
      "source": [
        "!pip install nltk"
      ],
      "metadata": {
        "id": "L4pnnxR_OgGw"
      },
      "execution_count": null,
      "outputs": []
    },
    {
      "cell_type": "code",
      "source": [
        "import nltk\n",
        "from tqdm import tqdm"
      ],
      "metadata": {
        "id": "ErAV2wO1OphW"
      },
      "execution_count": 9,
      "outputs": []
    },
    {
      "cell_type": "code",
      "source": [
        "nltk.download('stopwords')"
      ],
      "metadata": {
        "colab": {
          "base_uri": "https://localhost:8080/"
        },
        "id": "x1C4NnxQOjYW",
        "outputId": "764edfc5-04f2-4e28-f615-52eed595734d"
      },
      "execution_count": 10,
      "outputs": [
        {
          "output_type": "stream",
          "name": "stderr",
          "text": [
            "[nltk_data] Downloading package stopwords to /root/nltk_data...\n",
            "[nltk_data]   Unzipping corpora/stopwords.zip.\n"
          ]
        },
        {
          "output_type": "execute_result",
          "data": {
            "text/plain": [
              "True"
            ]
          },
          "metadata": {},
          "execution_count": 10
        }
      ]
    },
    {
      "cell_type": "code",
      "source": [
        "import torch\n",
        "from transformers import AutoTokenizer, AutoModel\n",
        "from nltk.corpus import stopwords\n",
        "\n",
        "# Load the pretrained SciBERT model and tokenizer\n",
        "model_name = 'allenai/scibert_scivocab_cased'\n",
        "tokenizer = AutoTokenizer.from_pretrained(model_name)\n",
        "model = AutoModel.from_pretrained(model_name)\n",
        "\n",
        "device = torch.device('cuda' if torch.cuda.is_available() else 'cpu')\n",
        "model = model.to(device)\n",
        "\n",
        "stop_words = set(stopwords.words('english'))\n",
        "\n",
        "# Generate embeddings for each abstract\n",
        "embeddings = []\n",
        "for i in tqdm(range(len(new_dataset))):\n",
        "    abstract = new_dataset[i]['abstract']\n",
        "    # Tokenize the abstract\n",
        "    tokens = tokenizer.tokenize(abstract)\n",
        "    # Remove stop words\n",
        "    tokens_without_stopwords = [token for token in tokens if token.lower() not in stop_words]\n",
        "    # Encode the abstract\n",
        "    encoded_abstract = tokenizer.encode_plus(' '.join(tokens_without_stopwords),\n",
        "                                             add_special_tokens=True,\n",
        "                                             max_length=512,\n",
        "                                             truncation=True,\n",
        "                                             padding='max_length',\n",
        "                                             return_tensors='pt').to(device)\n",
        "    # Generate SciBERT embedding for the abstract\n",
        "    with torch.no_grad():\n",
        "        outputs = model(encoded_abstract.input_ids)\n",
        "        embedding = outputs.last_hidden_state[:, 0, :].cpu().numpy()  # Extract embedding from the first token [CLS]\n",
        "    embeddings.append(embedding[0])"
      ],
      "metadata": {
        "id": "apEBJEq1NSCr",
        "colab": {
          "base_uri": "https://localhost:8080/",
          "height": 202,
          "referenced_widgets": [
            "c728a02cc5fc409db60fae23d3a6e348",
            "14dc68ac70fe48aa98b7a99ac105b3c6",
            "979beaf315a54523b60022f3ccba3ca4",
            "4f7b0b21a8c143fe80db6aedf03eff9f",
            "b8b1c21cd00a4e30876ac069344d9686",
            "294c226d093f407d90a84f2895ccecde",
            "8d53d10ff3ae49fbae9529bfc9c80a60",
            "45c202ef6e8c4582bdb3aa2c8bade9c7",
            "2225f09c7ef744138e4725cb2d9a62ba",
            "ab825e1d2ef64159b883bd27d25650a4",
            "49d8532ddc5c4c4abb884d73f762d5c9",
            "b84160e4814143e983191e758d92837d",
            "fab33ab02244404b8ad6c5f4f3101619",
            "b2e5a55365024846b8c1bd45f955b523",
            "18c6514618bd430a8d046fee04648d9c",
            "72592715a4cd4fd78250f56568164a90",
            "3b74c95fff1b481ab51ac1239fb27694",
            "ea70ff03a96b444c87750966bf99e096",
            "ccd5d3710a584e418065ea6212664d61",
            "fc06110115b349d5b25d43fd854f0fa5",
            "9ca903763a5a4e46945e0bd718a429d1",
            "97f37acc527b4d4280ac108e694cf4da",
            "844f303fc3884b14b0437dda4f0a46c7",
            "4bc10b3104bc46448eb3adec7dd1f6bb",
            "5d921c0bb1f847b09aa427efe359019e",
            "fe69f62d22c342259c52f701abaed8c1",
            "3c02944c7caf4275a132bb22d684e576",
            "f3f072cd33c542e2b5a916c89b089e0c",
            "3dfab36955c94bbcb90ac073c8d5ca52",
            "93dcb3ab3c394c95a059cb51aa398ae1",
            "26bfab9eaccd40d39c122ed7622a3d75",
            "c660ac5839fe42e0813ce912cd39d6a8",
            "b29c4723771848f483d352fec6a233f2"
          ]
        },
        "outputId": "32a33d5f-e4e6-4fd1-e074-9b00e6cad7aa"
      },
      "execution_count": 58,
      "outputs": [
        {
          "output_type": "display_data",
          "data": {
            "text/plain": [
              "Downloading (…)lve/main/config.json:   0%|          | 0.00/385 [00:00<?, ?B/s]"
            ],
            "application/vnd.jupyter.widget-view+json": {
              "version_major": 2,
              "version_minor": 0,
              "model_id": "c728a02cc5fc409db60fae23d3a6e348"
            }
          },
          "metadata": {}
        },
        {
          "output_type": "display_data",
          "data": {
            "text/plain": [
              "Downloading (…)solve/main/vocab.txt:   0%|          | 0.00/222k [00:00<?, ?B/s]"
            ],
            "application/vnd.jupyter.widget-view+json": {
              "version_major": 2,
              "version_minor": 0,
              "model_id": "b84160e4814143e983191e758d92837d"
            }
          },
          "metadata": {}
        },
        {
          "output_type": "display_data",
          "data": {
            "text/plain": [
              "Downloading pytorch_model.bin:   0%|          | 0.00/442M [00:00<?, ?B/s]"
            ],
            "application/vnd.jupyter.widget-view+json": {
              "version_major": 2,
              "version_minor": 0,
              "model_id": "844f303fc3884b14b0437dda4f0a46c7"
            }
          },
          "metadata": {}
        },
        {
          "output_type": "stream",
          "name": "stderr",
          "text": [
            "Some weights of the model checkpoint at allenai/scibert_scivocab_cased were not used when initializing BertModel: ['cls.predictions.transform.LayerNorm.bias', 'cls.predictions.bias', 'cls.seq_relationship.weight', 'cls.predictions.transform.LayerNorm.weight', 'cls.predictions.transform.dense.bias', 'cls.predictions.decoder.weight', 'cls.seq_relationship.bias', 'cls.predictions.decoder.bias', 'cls.predictions.transform.dense.weight']\n",
            "- This IS expected if you are initializing BertModel from the checkpoint of a model trained on another task or with another architecture (e.g. initializing a BertForSequenceClassification model from a BertForPreTraining model).\n",
            "- This IS NOT expected if you are initializing BertModel from the checkpoint of a model that you expect to be exactly identical (initializing a BertForSequenceClassification model from a BertForSequenceClassification model).\n",
            "100%|██████████| 26048/26048 [16:44<00:00, 25.93it/s]\n"
          ]
        }
      ]
    },
    {
      "cell_type": "code",
      "source": [
        "len(embeddings)"
      ],
      "metadata": {
        "colab": {
          "base_uri": "https://localhost:8080/"
        },
        "id": "Rj_EGJZG5DaC",
        "outputId": "e22019a3-3525-4428-f8fb-5c545b23c729"
      },
      "execution_count": 59,
      "outputs": [
        {
          "output_type": "execute_result",
          "data": {
            "text/plain": [
              "26048"
            ]
          },
          "metadata": {},
          "execution_count": 59
        }
      ]
    },
    {
      "cell_type": "code",
      "source": [
        "import numpy as np\n",
        "from sklearn.metrics.pairwise import cosine_similarity\n",
        "\n",
        "# Convert the embeddings list to a numpy array and reshape it\n",
        "embeddings_array = np.array(embeddings).reshape(len(embeddings), -1)"
      ],
      "metadata": {
        "id": "7aPG_Iv7Pa1D"
      },
      "execution_count": 60,
      "outputs": []
    },
    {
      "cell_type": "code",
      "source": [
        "papers_dict[80054354]"
      ],
      "metadata": {
        "colab": {
          "base_uri": "https://localhost:8080/",
          "height": 122
        },
        "id": "gGB6WjZ73ck5",
        "outputId": "9a079285-791c-4714-b957-c9fbf2de5623"
      },
      "execution_count": 44,
      "outputs": [
        {
          "output_type": "execute_result",
          "data": {
            "text/plain": [
              "'Abstract P1 10 04: Elacestrant, a novel oral selective estrogen receptor degrader (SERD) decreases tumoral 18F FES uptake in a phase 1 study of ER+ HER2 advanced breast cancer patientsBackground: The estrogen receptor (ER) expressed in approximately 70% of breast cancers, can be mapped using 16a [18F]Fluoro 17b estradiol (FES) PET, a non invasive molecular whole body imaging tool capable of assessing ER target engagement by endocrine therapy. Elacestrant (RAD1901) is a novel, non steroidal oral SERD that has demonstrated single agent activity in heavily pre treated patients with ER+ advanced breast cancer (Bardia et al. J Clin Oncol 35, 2017: suppl; abstr 1014) The primary objective of this study was the visualization and quantification of residual ER binding with FES PET after treatment with elacestrant. Methods: In the RAD1901 106 phase 1 study (NCT02650817) patients with advanced ER+/HER2 breast cancer were treated with elacestrant at two dose levels (200 mg or 400 mg qd orally) for the first 14 days. Tumoral FES uptake was measured at baseline and day 14. After FES PET scan at day 14, all patients received elacestrant 400 mg qd until disease progression or discontinuation due to another cause. Key inclusion criteria included postmenopausal women with advanced ER+/HER2 breast cancer, who have progressed after =6 months of at least 1 line of endocrine treatment in the metastatic setting, with measurable disease according to RECIST criteria v1.1 or clinically evaluable disease. The PET scan was performed 60 min after intravenous injection of 200 MBq FES. Maximum standardized uptake values (SUVmax) were calculated and corrected for background activity. FES positive lesions had a SUVmax >1.5. FES response was defined as a 75% median decrease of SUVmax between the two scans. ESR1 mutation status was determined from circulating tumor DNA collected at multiple time points. Results: Twenty four patients were screened and 16 patients were enrolled (8 at each dose level) Median lines of prior therapy were 3, with 6 (38% patients having previously received fulvestrant and 8 (50% patients harboring at least 1 ESR1 mutation at baseline. Elacestrant demonstrated a median of 88% (range 59 97.1% reduction in tumorFES uptake following 14 days of treatment. Eleven out of 16 patients had >75% reduction in FES uptake at day 14. At the data cutoff date of 2 May 2017, median treatment duration was 8.1 weeks and 8 (50% patients remained on study. Elacestrant was generally well tolerated, with the most common treatment related adverse events (CTCAE v4.03) being low grade nausea gr1 50% gr2 =19% gr3/4 0% dyspepsia (gr1= 25% gr2 19% gr3/4 0% and dysphagia (gr1 19% gr2 =12% gr3/4 0% Updated analyses with mature data on correlation of FES uptake reduction and tumor response, treatment duration, safety and ESR1 mutation will be presented. Conclusions: Elacestrant significantly reduced FES uptake at both 200 mg and 400 mg doses after 14 days of treatment in heavily pre treated patients with advanced ER+/HER2 breast cancer, including those harboring ESR1 mutations. Citation Format: de Vries EGE, Venema CM, Glaudemans AWJM, Jager A, Menke van der Houven van Oordt CW, Neven P, Jiang H, Wang D, O9Neill A, Patki A, Aftimos P. Elacestrant, a novel oral selective estrogen receptor degrader (SERD) decreases tumoral 18F FES uptake in a phase 1 study of ER+ HER2 advanced breast cancer patients [abstract] In: Proceedings of the 2017 San Antonio Breast Cancer Symposium; 2017 Dec 5 9; San Antonio, TX. Philadelphia (PA) AACR; Cancer Res 2018;78(4 Suppl):Abstract nr P1 10 04.'"
            ],
            "application/vnd.google.colaboratory.intrinsic+json": {
              "type": "string"
            }
          },
          "metadata": {},
          "execution_count": 44
        }
      ]
    },
    {
      "cell_type": "code",
      "source": [
        "dataset['query'][0]"
      ],
      "metadata": {
        "colab": {
          "base_uri": "https://localhost:8080/",
          "height": 35
        },
        "id": "hipMiFd7iTi9",
        "outputId": "ada9d4b7-1558-4ac1-bda9-99cdd57db2b4"
      },
      "execution_count": 32,
      "outputs": [
        {
          "output_type": "execute_result",
          "data": {
            "text/plain": [
              "'fes serd'"
            ],
            "application/vnd.google.colaboratory.intrinsic+json": {
              "type": "string"
            }
          },
          "metadata": {},
          "execution_count": 32
        }
      ]
    },
    {
      "cell_type": "code",
      "source": [
        "ground_truth[0]"
      ],
      "metadata": {
        "id": "dooDc6Ykiouk",
        "colab": {
          "base_uri": "https://localhost:8080/"
        },
        "outputId": "1ade3808-81e0-46e0-8922-6e8698349177"
      },
      "execution_count": 33,
      "outputs": [
        {
          "output_type": "execute_result",
          "data": {
            "text/plain": [
              "[80054354,\n",
              " 208446849,\n",
              " 220150649,\n",
              " 80387586,\n",
              " 76745999,\n",
              " 4763889,\n",
              " 165053669,\n",
              " 54150229,\n",
              " 51930068,\n",
              " 55702260]"
            ]
          },
          "metadata": {},
          "execution_count": 33
        }
      ]
    },
    {
      "cell_type": "code",
      "source": [
        "len_pap = len(dataset['candidates'])"
      ],
      "metadata": {
        "id": "k7gc4utOi7v5"
      },
      "execution_count": 61,
      "outputs": []
    },
    {
      "cell_type": "code",
      "source": [
        "recommended_papers = []\n",
        "for i in tqdm(range(len_pap)):\n",
        "  query = dataset['query'][i]\n",
        "\n",
        "  # Preprocess the query in the same way as the documents\n",
        "  query_tokens = tokenizer.tokenize(query)\n",
        "  query_tokens_without_stopwords = [token for token in query_tokens if token.lower() not in stop_words]\n",
        "  encoded_query = tokenizer.encode_plus(' '.join(query_tokens_without_stopwords),\n",
        "                                        add_special_tokens=True,\n",
        "                                        max_length=512,\n",
        "                                        truncation=True,\n",
        "                                        padding='max_length',\n",
        "                                        return_tensors='pt')\n",
        "\n",
        "  # Generate SciBERT embedding for the query\n",
        "  with torch.no_grad():\n",
        "      query_input_ids = encoded_query.input_ids.to(device)\n",
        "      query_embedding = model(query_input_ids).last_hidden_state[:, 0, :].cpu().numpy()\n",
        "\n",
        "  # Calculate cosine similarity between the query embedding and document embeddings\n",
        "  query_embedding_tensor = torch.tensor(query_embedding).to(device)\n",
        "  similarity_scores = cosine_similarity(query_embedding_tensor.cpu().numpy(), embeddings_array)\n",
        "  # print(len(query_embedding_tensor.cpu().numpy()))\n",
        "  # print(len(embeddings_array))\n",
        "  # break;\n",
        "\n",
        "  # Get the indices of the top 10 similar documents\n",
        "  top_indices = np.argsort(similarity_scores, axis=1)[:, -100:][0][::-1]\n",
        "\n",
        "  # Retrieve the IDs of the top similar documents\n",
        "  top_documents = [new_dataset[i]['id'] for i in top_indices]\n",
        "  temp = []\n",
        "  for doc_id in top_documents:\n",
        "    temp.append(doc_id)\n",
        "  recommended_papers.append(temp)"
      ],
      "metadata": {
        "colab": {
          "base_uri": "https://localhost:8080/"
        },
        "id": "Rs-PnzmeiBRg",
        "outputId": "18e5ba77-f777-40bb-e344-68ab5880128a"
      },
      "execution_count": 79,
      "outputs": [
        {
          "output_type": "stream",
          "name": "stderr",
          "text": [
            "100%|██████████| 2637/2637 [06:05<00:00,  7.21it/s]\n"
          ]
        }
      ]
    },
    {
      "cell_type": "code",
      "source": [
        "print(ground_truth[0])"
      ],
      "metadata": {
        "colab": {
          "base_uri": "https://localhost:8080/"
        },
        "id": "EpSAd0Hhkddj",
        "outputId": "07bfc811-7086-4d7c-a488-d3f68d27b9fd"
      },
      "execution_count": 39,
      "outputs": [
        {
          "output_type": "stream",
          "name": "stdout",
          "text": [
            "[80054354, 208446849, 220150649, 80387586, 76745999, 4763889, 165053669, 54150229, 51930068, 55702260]\n"
          ]
        }
      ]
    },
    {
      "cell_type": "code",
      "source": [
        "import numpy as np\n",
        "\n",
        "def calculate_dcg(scores):\n",
        "    positions = np.arange(1, len(scores) + 1)\n",
        "    discounts = np.log2(positions + 1)\n",
        "    return np.sum(scores / discounts)\n",
        "\n",
        "def calculate_ndcg(ground_truth, recommended_documents, k):\n",
        "    ndcg_scores = []\n",
        "    for gt_docs, rec_docs in zip(ground_truth, recommended_documents):\n",
        "        relevance_scores = np.zeros(k)\n",
        "        for i, doc_id in enumerate(rec_docs[:k]):\n",
        "            if doc_id in gt_docs:\n",
        "                relevance_scores[i] = 1 # Assign a relevance score of 1 for relevant documents\n",
        "        ideal_dcg = calculate_dcg(sorted(relevance_scores, reverse=True))\n",
        "        dcg = calculate_dcg(relevance_scores)\n",
        "        ndcg = dcg / ideal_dcg if ideal_dcg > 0 else 0.5 \n",
        "        ndcg_scores.append(ndcg)\n",
        "    return np.mean(ndcg_scores)\n",
        "\n",
        "\n",
        "k = 5  # Consider top k recommended documents for NDCG calculation\n",
        "\n",
        "ndcg = calculate_ndcg(ground_truth, recommended_papers, k)\n",
        "print(f\"NDCG@{k}: {ndcg:.4f}\")\n"
      ],
      "metadata": {
        "colab": {
          "base_uri": "https://localhost:8080/"
        },
        "id": "LcFPZlRHkB7U",
        "outputId": "5ed8c021-bd79-4549-974b-149ae2737659"
      },
      "execution_count": 84,
      "outputs": [
        {
          "output_type": "stream",
          "name": "stdout",
          "text": [
            "NDCG@5: 0.5329\n"
          ]
        }
      ]
    },
    {
      "cell_type": "code",
      "source": [
        "query = new_dataset[0]['abstract']"
      ],
      "metadata": {
        "id": "0xEeNXWG1kLn"
      },
      "execution_count": 81,
      "outputs": []
    },
    {
      "cell_type": "code",
      "source": [
        "query_tokens = tokenizer.tokenize(query)\n",
        "query_tokens_without_stopwords = [token for token in query_tokens if token.lower() not in stop_words]\n",
        "encoded_query = tokenizer.encode_plus(' '.join(query_tokens_without_stopwords),\n",
        "                                      add_special_tokens=True,\n",
        "                                      max_length=512,\n",
        "                                      truncation=True,\n",
        "                                      padding='max_length',\n",
        "                                      return_tensors='pt')\n",
        "\n",
        "# Generate SciBERT embedding for the query\n",
        "with torch.no_grad():\n",
        "    query_input_ids = encoded_query.input_ids.to(device)\n",
        "    query_embedding = model(query_input_ids).last_hidden_state[:, 0, :].cpu().numpy()\n",
        "\n",
        "# Calculate cosine similarity between the query embedding and document embeddings\n",
        "query_embedding_tensor = torch.tensor(query_embedding).to(device)\n",
        "similarity_scores = cosine_similarity(query_embedding_tensor.cpu().numpy(), embeddings_array)\n",
        "# print(len(query_embedding_tensor.cpu().numpy()))\n",
        "# print(len(embeddings_array))\n",
        "# break;\n",
        "\n",
        "# Get the indices of the top 10 similar documents\n",
        "top_indices = np.argsort(similarity_scores, axis=1)[:, -10:][0][::-1]\n",
        "\n",
        "# Retrieve the IDs of the top similar documents\n",
        "top_documents = [new_dataset[i]['id'] for i in top_indices]\n",
        "temp = []\n",
        "for doc_id in top_documents:\n",
        "  temp.append(doc_id)\n",
        "print(temp)"
      ],
      "metadata": {
        "id": "UYtUVfIqmE8V",
        "colab": {
          "base_uri": "https://localhost:8080/"
        },
        "outputId": "67aefe1b-2b33-4a9f-aa2e-29ee9e869caf"
      },
      "execution_count": 82,
      "outputs": [
        {
          "output_type": "stream",
          "name": "stdout",
          "text": [
            "[80054354, 26333575, 195081459, 210222137, 201194791, 135172862, 201640412, 53144236, 206558037, 204068812]\n"
          ]
        }
      ]
    },
    {
      "cell_type": "code",
      "source": [
        "new_dataset[0]"
      ],
      "metadata": {
        "colab": {
          "base_uri": "https://localhost:8080/"
        },
        "id": "oPZDRXU-1l07",
        "outputId": "bd97e4ee-eb7f-4189-ae86-06a49887e7ab"
      },
      "execution_count": 83,
      "outputs": [
        {
          "output_type": "execute_result",
          "data": {
            "text/plain": [
              "{'id': 80054354,\n",
              " 'abstract': 'Abstract P1 10 04: Elacestrant, a novel oral selective estrogen receptor degrader (SERD) decreases tumoral 18F FES uptake in a phase 1 study of ER+ HER2 advanced breast cancer patientsBackground: The estrogen receptor (ER) expressed in approximately 70% of breast cancers, can be mapped using 16a [18F]Fluoro 17b estradiol (FES) PET, a non invasive molecular whole body imaging tool capable of assessing ER target engagement by endocrine therapy. Elacestrant (RAD1901) is a novel, non steroidal oral SERD that has demonstrated single agent activity in heavily pre treated patients with ER+ advanced breast cancer (Bardia et al. J Clin Oncol 35, 2017: suppl; abstr 1014) The primary objective of this study was the visualization and quantification of residual ER binding with FES PET after treatment with elacestrant. Methods: In the RAD1901 106 phase 1 study (NCT02650817) patients with advanced ER+/HER2 breast cancer were treated with elacestrant at two dose levels (200 mg or 400 mg qd orally) for the first 14 days. Tumoral FES uptake was measured at baseline and day 14. After FES PET scan at day 14, all patients received elacestrant 400 mg qd until disease progression or discontinuation due to another cause. Key inclusion criteria included postmenopausal women with advanced ER+/HER2 breast cancer, who have progressed after =6 months of at least 1 line of endocrine treatment in the metastatic setting, with measurable disease according to RECIST criteria v1.1 or clinically evaluable disease. The PET scan was performed 60 min after intravenous injection of 200 MBq FES. Maximum standardized uptake values (SUVmax) were calculated and corrected for background activity. FES positive lesions had a SUVmax >1.5. FES response was defined as a 75% median decrease of SUVmax between the two scans. ESR1 mutation status was determined from circulating tumor DNA collected at multiple time points. Results: Twenty four patients were screened and 16 patients were enrolled (8 at each dose level) Median lines of prior therapy were 3, with 6 (38% patients having previously received fulvestrant and 8 (50% patients harboring at least 1 ESR1 mutation at baseline. Elacestrant demonstrated a median of 88% (range 59 97.1% reduction in tumorFES uptake following 14 days of treatment. Eleven out of 16 patients had >75% reduction in FES uptake at day 14. At the data cutoff date of 2 May 2017, median treatment duration was 8.1 weeks and 8 (50% patients remained on study. Elacestrant was generally well tolerated, with the most common treatment related adverse events (CTCAE v4.03) being low grade nausea gr1 50% gr2 =19% gr3/4 0% dyspepsia (gr1= 25% gr2 19% gr3/4 0% and dysphagia (gr1 19% gr2 =12% gr3/4 0% Updated analyses with mature data on correlation of FES uptake reduction and tumor response, treatment duration, safety and ESR1 mutation will be presented. Conclusions: Elacestrant significantly reduced FES uptake at both 200 mg and 400 mg doses after 14 days of treatment in heavily pre treated patients with advanced ER+/HER2 breast cancer, including those harboring ESR1 mutations. Citation Format: de Vries EGE, Venema CM, Glaudemans AWJM, Jager A, Menke van der Houven van Oordt CW, Neven P, Jiang H, Wang D, O9Neill A, Patki A, Aftimos P. Elacestrant, a novel oral selective estrogen receptor degrader (SERD) decreases tumoral 18F FES uptake in a phase 1 study of ER+ HER2 advanced breast cancer patients [abstract] In: Proceedings of the 2017 San Antonio Breast Cancer Symposium; 2017 Dec 5 9; San Antonio, TX. Philadelphia (PA) AACR; Cancer Res 2018;78(4 Suppl):Abstract nr P1 10 04.'}"
            ]
          },
          "metadata": {},
          "execution_count": 83
        }
      ]
    },
    {
      "cell_type": "code",
      "source": [],
      "metadata": {
        "id": "i7p1-6-t1nzW"
      },
      "execution_count": null,
      "outputs": []
    }
  ]
}